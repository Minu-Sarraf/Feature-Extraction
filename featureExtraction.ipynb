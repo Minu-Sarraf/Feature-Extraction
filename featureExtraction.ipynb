{
  "cells": [
    {
      "cell_type": "code",
      "execution_count": null,
      "id": "094c8745",
      "metadata": {
        "id": "094c8745"
      },
      "outputs": [],
      "source": [
        "#importing libraries\n",
        "from sklearn.datasets import load_boston\n",
        "import pandas as pd\n",
        "import numpy as np\n",
        "import matplotlib\n",
        "import matplotlib.pyplot as plt\n",
        "import seaborn as sns\n",
        "import statsmodels.api as sm\n",
        "%matplotlib inline\n",
        "from sklearn.model_selection import train_test_split\n",
        "from sklearn.linear_model import LinearRegression\n",
        "from sklearn.feature_selection import RFE\n",
        "from sklearn.linear_model import RidgeCV, LassoCV, Ridge, Lasso\n",
        "from sklearn.model_selection import RandomizedSearchCV\n",
        "from pprint import pprint\n",
        "from sklearn.ensemble import RandomForestRegressor\n",
        "rf = RandomForestRegressor(random_state = 42)\n",
        "from sklearn.ensemble import RandomForestClassifier\n",
        "\n",
        "from sklearn.feature_selection import SelectFromModel\n",
        "from sklearn.inspection import permutation_importance\n",
        "from sklearn.metrics import accuracy_score, confusion_matrix, classification_report"
      ]
    },
    {
      "cell_type": "code",
      "execution_count": null,
      "id": "4beb15a0",
      "metadata": {
        "id": "4beb15a0",
        "outputId": "6506080b-c1b9-4567-c8bc-f237eada6b9c"
      },
      "outputs": [
        {
          "data": {
            "text/html": [
              "<div>\n",
              "<style scoped>\n",
              "    .dataframe tbody tr th:only-of-type {\n",
              "        vertical-align: middle;\n",
              "    }\n",
              "\n",
              "    .dataframe tbody tr th {\n",
              "        vertical-align: top;\n",
              "    }\n",
              "\n",
              "    .dataframe thead th {\n",
              "        text-align: right;\n",
              "    }\n",
              "</style>\n",
              "<table border=\"1\" class=\"dataframe\">\n",
              "  <thead>\n",
              "    <tr style=\"text-align: right;\">\n",
              "      <th></th>\n",
              "      <th>Death</th>\n",
              "      <th>Age</th>\n",
              "      <th>EdemaScore</th>\n",
              "      <th>Parocysmal_Dyspnea_Or_Orthopnea</th>\n",
              "      <th>Dyspnea_on_exertion</th>\n",
              "      <th>Fatigue</th>\n",
              "      <th>Chest_Pain</th>\n",
              "      <th>Systolic_BP</th>\n",
              "      <th>Diastolic_BP</th>\n",
              "      <th>HeartRate</th>\n",
              "      <th>RespiratoryRate</th>\n",
              "      <th>LVEF</th>\n",
              "      <th>TmeToDiuretic_Log</th>\n",
              "    </tr>\n",
              "  </thead>\n",
              "  <tbody>\n",
              "    <tr>\n",
              "      <th>0</th>\n",
              "      <td>0.0</td>\n",
              "      <td>65</td>\n",
              "      <td>2</td>\n",
              "      <td>0.0</td>\n",
              "      <td>1.0</td>\n",
              "      <td>0.0</td>\n",
              "      <td>0</td>\n",
              "      <td>169.0</td>\n",
              "      <td>120.0</td>\n",
              "      <td>98.0</td>\n",
              "      <td>24.0</td>\n",
              "      <td>22</td>\n",
              "      <td>2.212188</td>\n",
              "    </tr>\n",
              "    <tr>\n",
              "      <th>1</th>\n",
              "      <td>0.0</td>\n",
              "      <td>76</td>\n",
              "      <td>3</td>\n",
              "      <td>1.0</td>\n",
              "      <td>1.0</td>\n",
              "      <td>1.0</td>\n",
              "      <td>0</td>\n",
              "      <td>124.0</td>\n",
              "      <td>74.0</td>\n",
              "      <td>69.0</td>\n",
              "      <td>20.0</td>\n",
              "      <td>37</td>\n",
              "      <td>2.071882</td>\n",
              "    </tr>\n",
              "    <tr>\n",
              "      <th>2</th>\n",
              "      <td>1.0</td>\n",
              "      <td>92</td>\n",
              "      <td>1</td>\n",
              "      <td>0.0</td>\n",
              "      <td>1.0</td>\n",
              "      <td>1.0</td>\n",
              "      <td>0</td>\n",
              "      <td>117.0</td>\n",
              "      <td>64.0</td>\n",
              "      <td>87.0</td>\n",
              "      <td>18.0</td>\n",
              "      <td>70</td>\n",
              "      <td>NaN</td>\n",
              "    </tr>\n",
              "    <tr>\n",
              "      <th>3</th>\n",
              "      <td>1.0</td>\n",
              "      <td>77</td>\n",
              "      <td>3</td>\n",
              "      <td>0.0</td>\n",
              "      <td>1.0</td>\n",
              "      <td>0.0</td>\n",
              "      <td>0</td>\n",
              "      <td>98.0</td>\n",
              "      <td>60.0</td>\n",
              "      <td>68.0</td>\n",
              "      <td>18.0</td>\n",
              "      <td>44</td>\n",
              "      <td>2.033424</td>\n",
              "    </tr>\n",
              "    <tr>\n",
              "      <th>4</th>\n",
              "      <td>0.0</td>\n",
              "      <td>96</td>\n",
              "      <td>1</td>\n",
              "      <td>1.0</td>\n",
              "      <td>1.0</td>\n",
              "      <td>1.0</td>\n",
              "      <td>0</td>\n",
              "      <td>135.0</td>\n",
              "      <td>105.0</td>\n",
              "      <td>144.0</td>\n",
              "      <td>18.0</td>\n",
              "      <td>50</td>\n",
              "      <td>2.471292</td>\n",
              "    </tr>\n",
              "  </tbody>\n",
              "</table>\n",
              "</div>"
            ],
            "text/plain": [
              "   Death  Age  EdemaScore  Parocysmal_Dyspnea_Or_Orthopnea  \\\n",
              "0    0.0   65           2                              0.0   \n",
              "1    0.0   76           3                              1.0   \n",
              "2    1.0   92           1                              0.0   \n",
              "3    1.0   77           3                              0.0   \n",
              "4    0.0   96           1                              1.0   \n",
              "\n",
              "   Dyspnea_on_exertion  Fatigue  Chest_Pain  Systolic_BP  Diastolic_BP  \\\n",
              "0                  1.0      0.0           0        169.0         120.0   \n",
              "1                  1.0      1.0           0        124.0          74.0   \n",
              "2                  1.0      1.0           0        117.0          64.0   \n",
              "3                  1.0      0.0           0         98.0          60.0   \n",
              "4                  1.0      1.0           0        135.0         105.0   \n",
              "\n",
              "   HeartRate  RespiratoryRate  LVEF  TmeToDiuretic_Log  \n",
              "0       98.0             24.0    22           2.212188  \n",
              "1       69.0             20.0    37           2.071882  \n",
              "2       87.0             18.0    70                NaN  \n",
              "3       68.0             18.0    44           2.033424  \n",
              "4      144.0             18.0    50           2.471292  "
            ]
          },
          "execution_count": 2,
          "metadata": {},
          "output_type": "execute_result"
        }
      ],
      "source": [
        "#Loading the dataset\n",
        "df= pd.read_excel(\"ENRSheartfailuredata.xlsx\")\n",
        "df.head()"
      ]
    },
    {
      "cell_type": "code",
      "execution_count": null,
      "id": "a517200f",
      "metadata": {
        "id": "a517200f",
        "outputId": "f429c70d-45d8-4118-feb1-3edb8d5c11fb"
      },
      "outputs": [
        {
          "data": {
            "text/plain": [
              "Death                               1\n",
              "Age                                 0\n",
              "EdemaScore                          0\n",
              "Parocysmal_Dyspnea_Or_Orthopnea    52\n",
              "Dyspnea_on_exertion                50\n",
              "Fatigue                            50\n",
              "Chest_Pain                          0\n",
              "Systolic_BP                        50\n",
              "Diastolic_BP                       50\n",
              "HeartRate                          50\n",
              "RespiratoryRate                    50\n",
              "LVEF                                0\n",
              "TmeToDiuretic_Log                   3\n",
              "dtype: int64"
            ]
          },
          "execution_count": 4,
          "metadata": {},
          "output_type": "execute_result"
        }
      ],
      "source": [
        "# Checking the missing values\n",
        "df.isnull().sum()"
      ]
    },
    {
      "cell_type": "code",
      "execution_count": null,
      "id": "50af009f",
      "metadata": {
        "id": "50af009f"
      },
      "outputs": [],
      "source": [
        "df.fillna(0, inplace = True)\n"
      ]
    },
    {
      "cell_type": "markdown",
      "id": "01e6570a",
      "metadata": {
        "id": "01e6570a"
      },
      "source": [
        "Classify the 25th,50,75th,100 percentile into groups as 1,2,3,4"
      ]
    },
    {
      "cell_type": "code",
      "execution_count": null,
      "id": "f19bfc4a",
      "metadata": {
        "id": "f19bfc4a"
      },
      "outputs": [],
      "source": [
        "# df.loc[df['TP'].between(0.381000, 0.88800, inclusive = 'right'), 'quartile'] = 1\n",
        "\n",
        "# df.loc[df['TP'].between(0.79925, 0.88800, inclusive = 'right'), 'quartile'] = 2\n",
        "# df.loc[df['TP'].between(0.88800, 0.940250, inclusive = 'right'), 'quartile'] = 3\n",
        "# df.loc[df['TP'].between(0.940250, 1, inclusive = 'right'), 'quartile'] = 4"
      ]
    },
    {
      "cell_type": "code",
      "execution_count": null,
      "id": "a95c97dd",
      "metadata": {
        "id": "a95c97dd",
        "outputId": "61684470-96aa-4384-bf1f-d7dae4e35b7c"
      },
      "outputs": [
        {
          "data": {
            "text/html": [
              "<div>\n",
              "<style scoped>\n",
              "    .dataframe tbody tr th:only-of-type {\n",
              "        vertical-align: middle;\n",
              "    }\n",
              "\n",
              "    .dataframe tbody tr th {\n",
              "        vertical-align: top;\n",
              "    }\n",
              "\n",
              "    .dataframe thead th {\n",
              "        text-align: right;\n",
              "    }\n",
              "</style>\n",
              "<table border=\"1\" class=\"dataframe\">\n",
              "  <thead>\n",
              "    <tr style=\"text-align: right;\">\n",
              "      <th></th>\n",
              "      <th>Death</th>\n",
              "      <th>Age</th>\n",
              "      <th>EdemaScore</th>\n",
              "      <th>Parocysmal_Dyspnea_Or_Orthopnea</th>\n",
              "      <th>Dyspnea_on_exertion</th>\n",
              "      <th>Fatigue</th>\n",
              "      <th>Chest_Pain</th>\n",
              "      <th>Systolic_BP</th>\n",
              "      <th>Diastolic_BP</th>\n",
              "      <th>HeartRate</th>\n",
              "      <th>RespiratoryRate</th>\n",
              "      <th>LVEF</th>\n",
              "      <th>TmeToDiuretic_Log</th>\n",
              "    </tr>\n",
              "  </thead>\n",
              "  <tbody>\n",
              "    <tr>\n",
              "      <th>0</th>\n",
              "      <td>0.0</td>\n",
              "      <td>65</td>\n",
              "      <td>2</td>\n",
              "      <td>0.0</td>\n",
              "      <td>1.0</td>\n",
              "      <td>0.0</td>\n",
              "      <td>0</td>\n",
              "      <td>169.0</td>\n",
              "      <td>120.0</td>\n",
              "      <td>98.0</td>\n",
              "      <td>24.0</td>\n",
              "      <td>22</td>\n",
              "      <td>2.212188</td>\n",
              "    </tr>\n",
              "    <tr>\n",
              "      <th>1</th>\n",
              "      <td>0.0</td>\n",
              "      <td>76</td>\n",
              "      <td>3</td>\n",
              "      <td>1.0</td>\n",
              "      <td>1.0</td>\n",
              "      <td>1.0</td>\n",
              "      <td>0</td>\n",
              "      <td>124.0</td>\n",
              "      <td>74.0</td>\n",
              "      <td>69.0</td>\n",
              "      <td>20.0</td>\n",
              "      <td>37</td>\n",
              "      <td>2.071882</td>\n",
              "    </tr>\n",
              "    <tr>\n",
              "      <th>2</th>\n",
              "      <td>1.0</td>\n",
              "      <td>92</td>\n",
              "      <td>1</td>\n",
              "      <td>0.0</td>\n",
              "      <td>1.0</td>\n",
              "      <td>1.0</td>\n",
              "      <td>0</td>\n",
              "      <td>117.0</td>\n",
              "      <td>64.0</td>\n",
              "      <td>87.0</td>\n",
              "      <td>18.0</td>\n",
              "      <td>70</td>\n",
              "      <td>0.000000</td>\n",
              "    </tr>\n",
              "    <tr>\n",
              "      <th>3</th>\n",
              "      <td>1.0</td>\n",
              "      <td>77</td>\n",
              "      <td>3</td>\n",
              "      <td>0.0</td>\n",
              "      <td>1.0</td>\n",
              "      <td>0.0</td>\n",
              "      <td>0</td>\n",
              "      <td>98.0</td>\n",
              "      <td>60.0</td>\n",
              "      <td>68.0</td>\n",
              "      <td>18.0</td>\n",
              "      <td>44</td>\n",
              "      <td>2.033424</td>\n",
              "    </tr>\n",
              "    <tr>\n",
              "      <th>4</th>\n",
              "      <td>0.0</td>\n",
              "      <td>96</td>\n",
              "      <td>1</td>\n",
              "      <td>1.0</td>\n",
              "      <td>1.0</td>\n",
              "      <td>1.0</td>\n",
              "      <td>0</td>\n",
              "      <td>135.0</td>\n",
              "      <td>105.0</td>\n",
              "      <td>144.0</td>\n",
              "      <td>18.0</td>\n",
              "      <td>50</td>\n",
              "      <td>2.471292</td>\n",
              "    </tr>\n",
              "    <tr>\n",
              "      <th>...</th>\n",
              "      <td>...</td>\n",
              "      <td>...</td>\n",
              "      <td>...</td>\n",
              "      <td>...</td>\n",
              "      <td>...</td>\n",
              "      <td>...</td>\n",
              "      <td>...</td>\n",
              "      <td>...</td>\n",
              "      <td>...</td>\n",
              "      <td>...</td>\n",
              "      <td>...</td>\n",
              "      <td>...</td>\n",
              "      <td>...</td>\n",
              "    </tr>\n",
              "    <tr>\n",
              "      <th>95</th>\n",
              "      <td>0.0</td>\n",
              "      <td>35</td>\n",
              "      <td>1</td>\n",
              "      <td>0.0</td>\n",
              "      <td>0.0</td>\n",
              "      <td>0.0</td>\n",
              "      <td>1</td>\n",
              "      <td>0.0</td>\n",
              "      <td>0.0</td>\n",
              "      <td>0.0</td>\n",
              "      <td>0.0</td>\n",
              "      <td>29</td>\n",
              "      <td>2.392697</td>\n",
              "    </tr>\n",
              "    <tr>\n",
              "      <th>96</th>\n",
              "      <td>0.0</td>\n",
              "      <td>50</td>\n",
              "      <td>0</td>\n",
              "      <td>0.0</td>\n",
              "      <td>0.0</td>\n",
              "      <td>0.0</td>\n",
              "      <td>0</td>\n",
              "      <td>0.0</td>\n",
              "      <td>0.0</td>\n",
              "      <td>0.0</td>\n",
              "      <td>0.0</td>\n",
              "      <td>69</td>\n",
              "      <td>2.920123</td>\n",
              "    </tr>\n",
              "    <tr>\n",
              "      <th>97</th>\n",
              "      <td>0.0</td>\n",
              "      <td>56</td>\n",
              "      <td>1</td>\n",
              "      <td>0.0</td>\n",
              "      <td>0.0</td>\n",
              "      <td>0.0</td>\n",
              "      <td>0</td>\n",
              "      <td>0.0</td>\n",
              "      <td>0.0</td>\n",
              "      <td>0.0</td>\n",
              "      <td>0.0</td>\n",
              "      <td>61</td>\n",
              "      <td>0.000000</td>\n",
              "    </tr>\n",
              "    <tr>\n",
              "      <th>98</th>\n",
              "      <td>0.0</td>\n",
              "      <td>75</td>\n",
              "      <td>2</td>\n",
              "      <td>0.0</td>\n",
              "      <td>0.0</td>\n",
              "      <td>0.0</td>\n",
              "      <td>0</td>\n",
              "      <td>0.0</td>\n",
              "      <td>0.0</td>\n",
              "      <td>0.0</td>\n",
              "      <td>0.0</td>\n",
              "      <td>68</td>\n",
              "      <td>2.419956</td>\n",
              "    </tr>\n",
              "    <tr>\n",
              "      <th>99</th>\n",
              "      <td>0.0</td>\n",
              "      <td>58</td>\n",
              "      <td>0</td>\n",
              "      <td>0.0</td>\n",
              "      <td>0.0</td>\n",
              "      <td>0.0</td>\n",
              "      <td>0</td>\n",
              "      <td>0.0</td>\n",
              "      <td>0.0</td>\n",
              "      <td>0.0</td>\n",
              "      <td>0.0</td>\n",
              "      <td>29</td>\n",
              "      <td>2.935003</td>\n",
              "    </tr>\n",
              "  </tbody>\n",
              "</table>\n",
              "<p>100 rows × 13 columns</p>\n",
              "</div>"
            ],
            "text/plain": [
              "    Death  Age  EdemaScore  Parocysmal_Dyspnea_Or_Orthopnea  \\\n",
              "0     0.0   65           2                              0.0   \n",
              "1     0.0   76           3                              1.0   \n",
              "2     1.0   92           1                              0.0   \n",
              "3     1.0   77           3                              0.0   \n",
              "4     0.0   96           1                              1.0   \n",
              "..    ...  ...         ...                              ...   \n",
              "95    0.0   35           1                              0.0   \n",
              "96    0.0   50           0                              0.0   \n",
              "97    0.0   56           1                              0.0   \n",
              "98    0.0   75           2                              0.0   \n",
              "99    0.0   58           0                              0.0   \n",
              "\n",
              "    Dyspnea_on_exertion  Fatigue  Chest_Pain  Systolic_BP  Diastolic_BP  \\\n",
              "0                   1.0      0.0           0        169.0         120.0   \n",
              "1                   1.0      1.0           0        124.0          74.0   \n",
              "2                   1.0      1.0           0        117.0          64.0   \n",
              "3                   1.0      0.0           0         98.0          60.0   \n",
              "4                   1.0      1.0           0        135.0         105.0   \n",
              "..                  ...      ...         ...          ...           ...   \n",
              "95                  0.0      0.0           1          0.0           0.0   \n",
              "96                  0.0      0.0           0          0.0           0.0   \n",
              "97                  0.0      0.0           0          0.0           0.0   \n",
              "98                  0.0      0.0           0          0.0           0.0   \n",
              "99                  0.0      0.0           0          0.0           0.0   \n",
              "\n",
              "    HeartRate  RespiratoryRate  LVEF  TmeToDiuretic_Log  \n",
              "0        98.0             24.0    22           2.212188  \n",
              "1        69.0             20.0    37           2.071882  \n",
              "2        87.0             18.0    70           0.000000  \n",
              "3        68.0             18.0    44           2.033424  \n",
              "4       144.0             18.0    50           2.471292  \n",
              "..        ...              ...   ...                ...  \n",
              "95        0.0              0.0    29           2.392697  \n",
              "96        0.0              0.0    69           2.920123  \n",
              "97        0.0              0.0    61           0.000000  \n",
              "98        0.0              0.0    68           2.419956  \n",
              "99        0.0              0.0    29           2.935003  \n",
              "\n",
              "[100 rows x 13 columns]"
            ]
          },
          "execution_count": 7,
          "metadata": {},
          "output_type": "execute_result"
        }
      ],
      "source": [
        "df"
      ]
    },
    {
      "cell_type": "code",
      "execution_count": null,
      "id": "52cd5384",
      "metadata": {
        "id": "52cd5384"
      },
      "outputs": [],
      "source": [
        "df.isnull().sum()\n",
        "df.dropna(inplace=True)"
      ]
    },
    {
      "cell_type": "markdown",
      "id": "c35288c2",
      "metadata": {
        "id": "c35288c2"
      },
      "source": [
        "Drop all null values"
      ]
    },
    {
      "cell_type": "code",
      "execution_count": null,
      "id": "d0ac6429",
      "metadata": {
        "id": "d0ac6429"
      },
      "outputs": [],
      "source": [
        ""
      ]
    },
    {
      "cell_type": "markdown",
      "id": "f056764f",
      "metadata": {
        "id": "f056764f"
      },
      "source": [
        "RANDOM FOREST\n"
      ]
    },
    {
      "cell_type": "markdown",
      "id": "6047fa8a",
      "metadata": {
        "id": "6047fa8a"
      },
      "source": [
        "TAKE 10 % test data and 90% train data"
      ]
    },
    {
      "cell_type": "code",
      "execution_count": null,
      "id": "c1104c7b",
      "metadata": {
        "id": "c1104c7b"
      },
      "outputs": [],
      "source": [
        "X_train, X_test, y_train, y_test = train_test_split(df.drop('Death', 1), df['Death'],test_size=0.1)\n"
      ]
    },
    {
      "cell_type": "code",
      "execution_count": null,
      "id": "09567e03",
      "metadata": {
        "id": "09567e03",
        "outputId": "e6e506ed-e21b-40af-d5fa-b11a13fbb600"
      },
      "outputs": [
        {
          "data": {
            "text/html": [
              "<div>\n",
              "<style scoped>\n",
              "    .dataframe tbody tr th:only-of-type {\n",
              "        vertical-align: middle;\n",
              "    }\n",
              "\n",
              "    .dataframe tbody tr th {\n",
              "        vertical-align: top;\n",
              "    }\n",
              "\n",
              "    .dataframe thead th {\n",
              "        text-align: right;\n",
              "    }\n",
              "</style>\n",
              "<table border=\"1\" class=\"dataframe\">\n",
              "  <thead>\n",
              "    <tr style=\"text-align: right;\">\n",
              "      <th></th>\n",
              "      <th>Age</th>\n",
              "      <th>EdemaScore</th>\n",
              "      <th>Parocysmal_Dyspnea_Or_Orthopnea</th>\n",
              "      <th>Dyspnea_on_exertion</th>\n",
              "      <th>Fatigue</th>\n",
              "      <th>Chest_Pain</th>\n",
              "      <th>Systolic_BP</th>\n",
              "      <th>Diastolic_BP</th>\n",
              "      <th>HeartRate</th>\n",
              "      <th>RespiratoryRate</th>\n",
              "      <th>LVEF</th>\n",
              "      <th>TmeToDiuretic_Log</th>\n",
              "    </tr>\n",
              "  </thead>\n",
              "  <tbody>\n",
              "    <tr>\n",
              "      <th>98</th>\n",
              "      <td>75</td>\n",
              "      <td>2</td>\n",
              "      <td>0.0</td>\n",
              "      <td>0.0</td>\n",
              "      <td>0.0</td>\n",
              "      <td>0</td>\n",
              "      <td>0.0</td>\n",
              "      <td>0.0</td>\n",
              "      <td>0.0</td>\n",
              "      <td>0.0</td>\n",
              "      <td>68</td>\n",
              "      <td>2.419956</td>\n",
              "    </tr>\n",
              "    <tr>\n",
              "      <th>62</th>\n",
              "      <td>46</td>\n",
              "      <td>2</td>\n",
              "      <td>0.0</td>\n",
              "      <td>0.0</td>\n",
              "      <td>0.0</td>\n",
              "      <td>0</td>\n",
              "      <td>0.0</td>\n",
              "      <td>0.0</td>\n",
              "      <td>0.0</td>\n",
              "      <td>0.0</td>\n",
              "      <td>35</td>\n",
              "      <td>3.185542</td>\n",
              "    </tr>\n",
              "    <tr>\n",
              "      <th>59</th>\n",
              "      <td>85</td>\n",
              "      <td>0</td>\n",
              "      <td>0.0</td>\n",
              "      <td>0.0</td>\n",
              "      <td>0.0</td>\n",
              "      <td>0</td>\n",
              "      <td>0.0</td>\n",
              "      <td>0.0</td>\n",
              "      <td>0.0</td>\n",
              "      <td>0.0</td>\n",
              "      <td>40</td>\n",
              "      <td>2.356026</td>\n",
              "    </tr>\n",
              "    <tr>\n",
              "      <th>85</th>\n",
              "      <td>73</td>\n",
              "      <td>1</td>\n",
              "      <td>0.0</td>\n",
              "      <td>0.0</td>\n",
              "      <td>0.0</td>\n",
              "      <td>0</td>\n",
              "      <td>0.0</td>\n",
              "      <td>0.0</td>\n",
              "      <td>0.0</td>\n",
              "      <td>0.0</td>\n",
              "      <td>42</td>\n",
              "      <td>2.334454</td>\n",
              "    </tr>\n",
              "    <tr>\n",
              "      <th>90</th>\n",
              "      <td>74</td>\n",
              "      <td>0</td>\n",
              "      <td>0.0</td>\n",
              "      <td>0.0</td>\n",
              "      <td>0.0</td>\n",
              "      <td>0</td>\n",
              "      <td>0.0</td>\n",
              "      <td>0.0</td>\n",
              "      <td>0.0</td>\n",
              "      <td>0.0</td>\n",
              "      <td>61</td>\n",
              "      <td>3.641177</td>\n",
              "    </tr>\n",
              "    <tr>\n",
              "      <th>...</th>\n",
              "      <td>...</td>\n",
              "      <td>...</td>\n",
              "      <td>...</td>\n",
              "      <td>...</td>\n",
              "      <td>...</td>\n",
              "      <td>...</td>\n",
              "      <td>...</td>\n",
              "      <td>...</td>\n",
              "      <td>...</td>\n",
              "      <td>...</td>\n",
              "      <td>...</td>\n",
              "      <td>...</td>\n",
              "    </tr>\n",
              "    <tr>\n",
              "      <th>11</th>\n",
              "      <td>73</td>\n",
              "      <td>3</td>\n",
              "      <td>1.0</td>\n",
              "      <td>0.0</td>\n",
              "      <td>1.0</td>\n",
              "      <td>0</td>\n",
              "      <td>168.0</td>\n",
              "      <td>64.0</td>\n",
              "      <td>87.0</td>\n",
              "      <td>22.0</td>\n",
              "      <td>69</td>\n",
              "      <td>2.285557</td>\n",
              "    </tr>\n",
              "    <tr>\n",
              "      <th>25</th>\n",
              "      <td>71</td>\n",
              "      <td>2</td>\n",
              "      <td>1.0</td>\n",
              "      <td>0.0</td>\n",
              "      <td>0.0</td>\n",
              "      <td>1</td>\n",
              "      <td>128.0</td>\n",
              "      <td>70.0</td>\n",
              "      <td>76.0</td>\n",
              "      <td>0.0</td>\n",
              "      <td>65</td>\n",
              "      <td>2.960946</td>\n",
              "    </tr>\n",
              "    <tr>\n",
              "      <th>9</th>\n",
              "      <td>87</td>\n",
              "      <td>2</td>\n",
              "      <td>1.0</td>\n",
              "      <td>1.0</td>\n",
              "      <td>0.0</td>\n",
              "      <td>1</td>\n",
              "      <td>122.0</td>\n",
              "      <td>62.0</td>\n",
              "      <td>87.0</td>\n",
              "      <td>18.0</td>\n",
              "      <td>51</td>\n",
              "      <td>2.527630</td>\n",
              "    </tr>\n",
              "    <tr>\n",
              "      <th>7</th>\n",
              "      <td>49</td>\n",
              "      <td>1</td>\n",
              "      <td>0.0</td>\n",
              "      <td>0.0</td>\n",
              "      <td>1.0</td>\n",
              "      <td>0</td>\n",
              "      <td>127.0</td>\n",
              "      <td>77.0</td>\n",
              "      <td>97.0</td>\n",
              "      <td>16.0</td>\n",
              "      <td>20</td>\n",
              "      <td>2.324282</td>\n",
              "    </tr>\n",
              "    <tr>\n",
              "      <th>27</th>\n",
              "      <td>63</td>\n",
              "      <td>3</td>\n",
              "      <td>1.0</td>\n",
              "      <td>0.0</td>\n",
              "      <td>0.0</td>\n",
              "      <td>1</td>\n",
              "      <td>111.0</td>\n",
              "      <td>63.0</td>\n",
              "      <td>125.0</td>\n",
              "      <td>18.0</td>\n",
              "      <td>10</td>\n",
              "      <td>3.151982</td>\n",
              "    </tr>\n",
              "  </tbody>\n",
              "</table>\n",
              "<p>90 rows × 12 columns</p>\n",
              "</div>"
            ],
            "text/plain": [
              "    Age  EdemaScore  Parocysmal_Dyspnea_Or_Orthopnea  Dyspnea_on_exertion  \\\n",
              "98   75           2                              0.0                  0.0   \n",
              "62   46           2                              0.0                  0.0   \n",
              "59   85           0                              0.0                  0.0   \n",
              "85   73           1                              0.0                  0.0   \n",
              "90   74           0                              0.0                  0.0   \n",
              "..  ...         ...                              ...                  ...   \n",
              "11   73           3                              1.0                  0.0   \n",
              "25   71           2                              1.0                  0.0   \n",
              "9    87           2                              1.0                  1.0   \n",
              "7    49           1                              0.0                  0.0   \n",
              "27   63           3                              1.0                  0.0   \n",
              "\n",
              "    Fatigue  Chest_Pain  Systolic_BP  Diastolic_BP  HeartRate  \\\n",
              "98      0.0           0          0.0           0.0        0.0   \n",
              "62      0.0           0          0.0           0.0        0.0   \n",
              "59      0.0           0          0.0           0.0        0.0   \n",
              "85      0.0           0          0.0           0.0        0.0   \n",
              "90      0.0           0          0.0           0.0        0.0   \n",
              "..      ...         ...          ...           ...        ...   \n",
              "11      1.0           0        168.0          64.0       87.0   \n",
              "25      0.0           1        128.0          70.0       76.0   \n",
              "9       0.0           1        122.0          62.0       87.0   \n",
              "7       1.0           0        127.0          77.0       97.0   \n",
              "27      0.0           1        111.0          63.0      125.0   \n",
              "\n",
              "    RespiratoryRate  LVEF  TmeToDiuretic_Log  \n",
              "98              0.0    68           2.419956  \n",
              "62              0.0    35           3.185542  \n",
              "59              0.0    40           2.356026  \n",
              "85              0.0    42           2.334454  \n",
              "90              0.0    61           3.641177  \n",
              "..              ...   ...                ...  \n",
              "11             22.0    69           2.285557  \n",
              "25              0.0    65           2.960946  \n",
              "9              18.0    51           2.527630  \n",
              "7              16.0    20           2.324282  \n",
              "27             18.0    10           3.151982  \n",
              "\n",
              "[90 rows x 12 columns]"
            ]
          },
          "execution_count": 10,
          "metadata": {},
          "output_type": "execute_result"
        }
      ],
      "source": [
        "X_train"
      ]
    },
    {
      "cell_type": "code",
      "execution_count": null,
      "id": "a1dd9fdb",
      "metadata": {
        "id": "a1dd9fdb",
        "outputId": "a4fb87f5-0f1f-4899-f5dd-249e2e8a48de"
      },
      "outputs": [
        {
          "data": {
            "text/plain": [
              "(90,)"
            ]
          },
          "execution_count": 11,
          "metadata": {},
          "output_type": "execute_result"
        }
      ],
      "source": [
        "y_train.shape"
      ]
    },
    {
      "cell_type": "code",
      "execution_count": null,
      "id": "91806957",
      "metadata": {
        "id": "91806957",
        "outputId": "4014d934-c8d5-4cc1-97b8-502509135851"
      },
      "outputs": [
        {
          "data": {
            "text/plain": [
              "RandomForestClassifier()"
            ]
          },
          "execution_count": 12,
          "metadata": {},
          "output_type": "execute_result"
        }
      ],
      "source": [
        "clf = RandomForestClassifier()\n",
        "clf.fit(X_train, y_train)"
      ]
    },
    {
      "cell_type": "code",
      "execution_count": null,
      "id": "986e9d6c",
      "metadata": {
        "id": "986e9d6c",
        "outputId": "0bb63c1f-80e7-4fbe-e67d-4930277b6f46"
      },
      "outputs": [
        {
          "data": {
            "text/plain": [
              "0.7"
            ]
          },
          "execution_count": 13,
          "metadata": {},
          "output_type": "execute_result"
        }
      ],
      "source": [
        "y_pred = clf.predict(X_test)\n",
        "accuracy_score(y_test, y_pred)"
      ]
    },
    {
      "cell_type": "code",
      "execution_count": null,
      "id": "707c3828",
      "metadata": {
        "id": "707c3828",
        "outputId": "c9b2c2ce-b151-4892-9936-26ea1a070399"
      },
      "outputs": [
        {
          "data": {
            "text/html": [
              "<div>\n",
              "<style scoped>\n",
              "    .dataframe tbody tr th:only-of-type {\n",
              "        vertical-align: middle;\n",
              "    }\n",
              "\n",
              "    .dataframe tbody tr th {\n",
              "        vertical-align: top;\n",
              "    }\n",
              "\n",
              "    .dataframe thead th {\n",
              "        text-align: right;\n",
              "    }\n",
              "</style>\n",
              "<table border=\"1\" class=\"dataframe\">\n",
              "  <thead>\n",
              "    <tr style=\"text-align: right;\">\n",
              "      <th></th>\n",
              "      <th>features</th>\n",
              "      <th>importance</th>\n",
              "    </tr>\n",
              "  </thead>\n",
              "  <tbody>\n",
              "    <tr>\n",
              "      <th>0</th>\n",
              "      <td>Age</td>\n",
              "      <td>0.214854</td>\n",
              "    </tr>\n",
              "    <tr>\n",
              "      <th>1</th>\n",
              "      <td>EdemaScore</td>\n",
              "      <td>0.064842</td>\n",
              "    </tr>\n",
              "    <tr>\n",
              "      <th>2</th>\n",
              "      <td>Parocysmal_Dyspnea_Or_Orthopnea</td>\n",
              "      <td>0.023064</td>\n",
              "    </tr>\n",
              "    <tr>\n",
              "      <th>3</th>\n",
              "      <td>Dyspnea_on_exertion</td>\n",
              "      <td>0.012916</td>\n",
              "    </tr>\n",
              "    <tr>\n",
              "      <th>4</th>\n",
              "      <td>Fatigue</td>\n",
              "      <td>0.019712</td>\n",
              "    </tr>\n",
              "    <tr>\n",
              "      <th>5</th>\n",
              "      <td>Chest_Pain</td>\n",
              "      <td>0.032158</td>\n",
              "    </tr>\n",
              "    <tr>\n",
              "      <th>6</th>\n",
              "      <td>Systolic_BP</td>\n",
              "      <td>0.071501</td>\n",
              "    </tr>\n",
              "    <tr>\n",
              "      <th>7</th>\n",
              "      <td>Diastolic_BP</td>\n",
              "      <td>0.070959</td>\n",
              "    </tr>\n",
              "    <tr>\n",
              "      <th>8</th>\n",
              "      <td>HeartRate</td>\n",
              "      <td>0.062495</td>\n",
              "    </tr>\n",
              "    <tr>\n",
              "      <th>9</th>\n",
              "      <td>RespiratoryRate</td>\n",
              "      <td>0.066864</td>\n",
              "    </tr>\n",
              "    <tr>\n",
              "      <th>10</th>\n",
              "      <td>LVEF</td>\n",
              "      <td>0.152789</td>\n",
              "    </tr>\n",
              "    <tr>\n",
              "      <th>11</th>\n",
              "      <td>TmeToDiuretic_Log</td>\n",
              "      <td>0.207847</td>\n",
              "    </tr>\n",
              "  </tbody>\n",
              "</table>\n",
              "</div>"
            ],
            "text/plain": [
              "                           features  importance\n",
              "0                               Age    0.214854\n",
              "1                        EdemaScore    0.064842\n",
              "2   Parocysmal_Dyspnea_Or_Orthopnea    0.023064\n",
              "3               Dyspnea_on_exertion    0.012916\n",
              "4                           Fatigue    0.019712\n",
              "5                        Chest_Pain    0.032158\n",
              "6                       Systolic_BP    0.071501\n",
              "7                      Diastolic_BP    0.070959\n",
              "8                         HeartRate    0.062495\n",
              "9                   RespiratoryRate    0.066864\n",
              "10                             LVEF    0.152789\n",
              "11                TmeToDiuretic_Log    0.207847"
            ]
          },
          "execution_count": 14,
          "metadata": {},
          "output_type": "execute_result"
        }
      ],
      "source": [
        "pd.DataFrame({\n",
        "    'features': df.drop('Death', 1).columns,\n",
        "    'importance': clf.feature_importances_\n",
        "})"
      ]
    },
    {
      "cell_type": "code",
      "execution_count": null,
      "id": "e30d6fe1",
      "metadata": {
        "id": "e30d6fe1"
      },
      "outputs": [],
      "source": [
        "def evaluate(model, test_features, test_labels):\n",
        "    predictions = model.predict(test_features)\n",
        "    errors = abs(predictions - test_labels)\n",
        "    mape = 100 * np.mean(errors / test_labels)\n",
        "    accuracy = 100 - mape\n",
        "    print('Model Performance')\n",
        "    print('Average Error: {:0.4f} degrees.'.format(np.mean(errors)))\n",
        "    print('Accuracy = {:0.2f}%.'.format(accuracy))\n",
        "    \n",
        "    return accuracy"
      ]
    },
    {
      "cell_type": "code",
      "execution_count": null,
      "id": "cfc5292f",
      "metadata": {
        "id": "cfc5292f"
      },
      "outputs": [],
      "source": [
        ""
      ]
    },
    {
      "cell_type": "code",
      "execution_count": null,
      "id": "65589cb0",
      "metadata": {
        "id": "65589cb0",
        "outputId": "a6f4ece7-ef34-4f11-8fab-8525880ed49f"
      },
      "outputs": [
        {
          "name": "stdout",
          "output_type": "stream",
          "text": [
            "{'bootstrap': [True, False],\n",
            " 'max_depth': [3, 4],\n",
            " 'max_features': ['auto', 'sqrt'],\n",
            " 'min_samples_leaf': [2, 4, 6, 8],\n",
            " 'min_samples_split': [10, 20, 25],\n",
            " 'n_estimators': [5, 10, 40]}\n"
          ]
        }
      ],
      "source": [
        "# Number of trees in random forest\n",
        "n_estimators = [5,10,40]\n",
        "# Number of features to consider at every split\n",
        "max_features = ['auto', 'sqrt']\n",
        "# Maximum number of levels in tree\n",
        "max_depth = [3, 4]\n",
        "#max_depth.append(None)\n",
        "# Minimum number of samples required to split a node\n",
        "min_samples_split = [10,20, 25]\n",
        "# Minimum number of samples required at each leaf node\n",
        "min_samples_leaf = [2, 4, 6, 8]\n",
        "# Method of selecting samples for training each tree\n",
        "bootstrap = [True, False]\n",
        "# Create the random grid\n",
        "random_grid = {'n_estimators': n_estimators,\n",
        "               'max_features': max_features,\n",
        "               'max_depth': max_depth,\n",
        "               'min_samples_split': min_samples_split,\n",
        "               'min_samples_leaf': min_samples_leaf,\n",
        "               'bootstrap': bootstrap}\n",
        "pprint(random_grid)"
      ]
    },
    {
      "cell_type": "markdown",
      "id": "b8fb99fb",
      "metadata": {
        "id": "b8fb99fb"
      },
      "source": [
        "# RandomForestRegressor"
      ]
    },
    {
      "cell_type": "code",
      "execution_count": null,
      "id": "ae371621",
      "metadata": {
        "id": "ae371621",
        "outputId": "9736e2d2-df22-46fb-829e-e8398b5c5d20"
      },
      "outputs": [
        {
          "name": "stdout",
          "output_type": "stream",
          "text": [
            "Fitting 3 folds for each of 100 candidates, totalling 300 fits\n"
          ]
        },
        {
          "data": {
            "text/plain": [
              "RandomizedSearchCV(cv=3, estimator=RandomForestRegressor(), n_iter=100,\n",
              "                   n_jobs=-1,\n",
              "                   param_distributions={'bootstrap': [True, False],\n",
              "                                        'max_depth': [3, 4],\n",
              "                                        'max_features': ['auto', 'sqrt'],\n",
              "                                        'min_samples_leaf': [2, 4, 6, 8],\n",
              "                                        'min_samples_split': [10, 20, 25],\n",
              "                                        'n_estimators': [5, 10, 40]},\n",
              "                   random_state=42, verbose=2)"
            ]
          },
          "execution_count": 17,
          "metadata": {},
          "output_type": "execute_result"
        }
      ],
      "source": [
        "\n",
        "# Use the random grid to search for best hyperparameters\n",
        "# First create the base model to tune\n",
        "rf = RandomForestRegressor()\n",
        "# Random search of parameters, using 3 fold cross validation, \n",
        "# search across 100 different combinations, and use all available cores\n",
        "rf_random = RandomizedSearchCV(estimator = rf, param_distributions = random_grid, n_iter = 100, cv = 3, verbose=2, random_state=42, n_jobs = -1)\n",
        "# Fit the random search model\n",
        "rf_random.fit(df.drop('Death', 1), df['Death'])"
      ]
    },
    {
      "cell_type": "code",
      "execution_count": null,
      "id": "5a5c8180",
      "metadata": {
        "id": "5a5c8180",
        "outputId": "aae43d67-1a76-47f9-de49-a4f116779225"
      },
      "outputs": [
        {
          "data": {
            "text/plain": [
              "{'n_estimators': 5,\n",
              " 'min_samples_split': 10,\n",
              " 'min_samples_leaf': 4,\n",
              " 'max_features': 'sqrt',\n",
              " 'max_depth': 4,\n",
              " 'bootstrap': True}"
            ]
          },
          "execution_count": 18,
          "metadata": {},
          "output_type": "execute_result"
        }
      ],
      "source": [
        "rf_random.best_params_"
      ]
    },
    {
      "cell_type": "code",
      "execution_count": null,
      "id": "707a9c47",
      "metadata": {
        "id": "707a9c47",
        "outputId": "e5f2bf53-46ba-4900-f57f-bb6fe31aa8b5"
      },
      "outputs": [
        {
          "name": "stdout",
          "output_type": "stream",
          "text": [
            "Model Performance\n",
            "Average Error: 0.2479 degrees.\n",
            "Accuracy = -inf%.\n"
          ]
        }
      ],
      "source": [
        "best_random = rf_random.best_estimator_\n",
        "random_accuracy = evaluate(best_random, df.drop('Death', 1), df['Death'])"
      ]
    },
    {
      "cell_type": "code",
      "execution_count": null,
      "id": "366a1a41",
      "metadata": {
        "id": "366a1a41",
        "outputId": "a896a0e4-ff96-415c-98a9-55d6f9000dba"
      },
      "outputs": [
        {
          "data": {
            "text/plain": [
              "array([0.35795438, 0.01808583, 0.        , 0.        , 0.02754222,\n",
              "       0.00399834, 0.09446489, 0.00055939, 0.02180954, 0.04038449,\n",
              "       0.07862672, 0.3565742 ])"
            ]
          },
          "execution_count": 20,
          "metadata": {},
          "output_type": "execute_result"
        }
      ],
      "source": [
        "rf_random.best_estimator_.feature_importances_"
      ]
    },
    {
      "cell_type": "code",
      "execution_count": null,
      "id": "d9d3d2cc",
      "metadata": {
        "id": "d9d3d2cc",
        "outputId": "141f5b1e-3120-4b5c-da68-03ba89105b98"
      },
      "outputs": [
        {
          "data": {
            "text/plain": [
              "array(['Age', 'EdemaScore', 'Parocysmal_Dyspnea_Or_Orthopnea',\n",
              "       'Dyspnea_on_exertion', 'Fatigue', 'Chest_Pain', 'Systolic_BP',\n",
              "       'Diastolic_BP', 'HeartRate', 'RespiratoryRate', 'LVEF',\n",
              "       'TmeToDiuretic_Log'], dtype=object)"
            ]
          },
          "execution_count": 21,
          "metadata": {},
          "output_type": "execute_result"
        }
      ],
      "source": [
        "rf_random.best_estimator_.feature_names_in_"
      ]
    },
    {
      "cell_type": "markdown",
      "id": "61155600",
      "metadata": {
        "id": "61155600"
      },
      "source": [
        "## Examine the Default Random Forest to Determine Parameters\n"
      ]
    },
    {
      "cell_type": "code",
      "execution_count": null,
      "id": "57aebc4c",
      "metadata": {
        "id": "57aebc4c",
        "outputId": "e6ab885a-e1f5-425d-e0ec-410781129905"
      },
      "outputs": [
        {
          "name": "stdout",
          "output_type": "stream",
          "text": [
            "{'bootstrap': [True, False],\n",
            " 'max_depth': [5, 10, 15, 20],\n",
            " 'max_features': ['auto', 'sqrt'],\n",
            " 'min_samples_leaf': [2, 4, 6, 8],\n",
            " 'min_samples_split': [2, 5, 8, 10],\n",
            " 'n_estimators': [50, 100]}\n"
          ]
        }
      ],
      "source": [
        "# Number of trees in random forest\n",
        "n_estimators = [50,100]\n",
        "# Number of features to consider at every split\n",
        "max_features = ['auto', 'sqrt']\n",
        "# Maximum number of levels in tree\n",
        "max_depth = [5,10, 15,20]\n",
        "#max_depth.append(None)\n",
        "# Minimum number of samples required to split a node\n",
        "min_samples_split = [2,5,8,10]\n",
        "# Minimum number of samples required at each leaf node\n",
        "min_samples_leaf = [2, 4, 6, 8]\n",
        "# Method of selecting samples for training each tree\n",
        "bootstrap = [True, False]\n",
        "# Create the random grid\n",
        "random_grid = {'n_estimators': n_estimators,\n",
        "               'max_features': max_features,\n",
        "               'max_depth': max_depth,\n",
        "               'min_samples_split': min_samples_split,\n",
        "               'min_samples_leaf': min_samples_leaf,\n",
        "               'bootstrap': bootstrap}\n",
        "pprint(random_grid)"
      ]
    },
    {
      "cell_type": "markdown",
      "id": "bbc302f2",
      "metadata": {
        "id": "bbc302f2"
      },
      "source": [
        "## Random Search Training of RandomForestClassifier\n",
        "Now, we instantiate the random search and fit it like any Scikit-Learn model:"
      ]
    },
    {
      "cell_type": "code",
      "execution_count": null,
      "id": "f6c4409a",
      "metadata": {
        "id": "f6c4409a",
        "outputId": "3341fcee-d584-47d9-c34c-b9e529573a35"
      },
      "outputs": [
        {
          "name": "stdout",
          "output_type": "stream",
          "text": [
            "Fitting 10 folds for each of 100 candidates, totalling 1000 fits\n"
          ]
        },
        {
          "data": {
            "text/plain": [
              "RandomizedSearchCV(cv=10, estimator=RandomForestClassifier(), n_iter=100,\n",
              "                   n_jobs=-1,\n",
              "                   param_distributions={'bootstrap': [True, False],\n",
              "                                        'max_depth': [5, 10, 15, 20],\n",
              "                                        'max_features': ['auto', 'sqrt'],\n",
              "                                        'min_samples_leaf': [2, 4, 6, 8],\n",
              "                                        'min_samples_split': [2, 5, 8, 10],\n",
              "                                        'n_estimators': [50, 100]},\n",
              "                   random_state=42, verbose=2)"
            ]
          },
          "execution_count": 23,
          "metadata": {},
          "output_type": "execute_result"
        }
      ],
      "source": [
        "\n",
        "# Use the random grid to search for best hyperparameters\n",
        "# First create the base model to tune\n",
        "rf = RandomForestClassifier()\n",
        "# Random search of parameters, using 3 fold cross validation, \n",
        "# search across 100 different combinations, and use all available cores\n",
        "rf_random = RandomizedSearchCV(estimator = rf, param_distributions = random_grid, n_iter = 100, cv = 10, verbose=2, random_state=42, n_jobs = -1)\n",
        "# Fit the random search model\n",
        "rf_random.fit(df.drop('Death', 1), df['Death'])"
      ]
    },
    {
      "cell_type": "markdown",
      "id": "a7252326",
      "metadata": {
        "id": "a7252326"
      },
      "source": [
        "# Evaluation Function\n"
      ]
    },
    {
      "cell_type": "code",
      "execution_count": null,
      "id": "fcee58a0",
      "metadata": {
        "id": "fcee58a0",
        "outputId": "e327059c-a004-49b6-a082-813f7d13316d"
      },
      "outputs": [
        {
          "data": {
            "text/plain": [
              "RandomForestClassifier(max_depth=15, min_samples_leaf=8)"
            ]
          },
          "execution_count": 24,
          "metadata": {},
          "output_type": "execute_result"
        }
      ],
      "source": [
        "rf_random.best_estimator_"
      ]
    },
    {
      "cell_type": "code",
      "execution_count": null,
      "id": "6b74713c",
      "metadata": {
        "id": "6b74713c",
        "outputId": "6f7970a0-2a0d-4094-d50a-32cc842162a7"
      },
      "outputs": [
        {
          "name": "stdout",
          "output_type": "stream",
          "text": [
            "Model Performance\n",
            "Average Error: 0.2100 degrees.\n",
            "Accuracy = 0.00%.\n"
          ]
        }
      ],
      "source": [
        "best_random = rf_random.best_estimator_\n",
        "random_accuracy = evaluate(best_random, df.drop('Death', 1), df['Death'])"
      ]
    },
    {
      "cell_type": "code",
      "execution_count": null,
      "id": "066f6378",
      "metadata": {
        "id": "066f6378",
        "outputId": "dcc782f3-e094-46b1-ee03-54b59d48d304"
      },
      "outputs": [
        {
          "data": {
            "text/html": [
              "<div>\n",
              "<style scoped>\n",
              "    .dataframe tbody tr th:only-of-type {\n",
              "        vertical-align: middle;\n",
              "    }\n",
              "\n",
              "    .dataframe tbody tr th {\n",
              "        vertical-align: top;\n",
              "    }\n",
              "\n",
              "    .dataframe thead th {\n",
              "        text-align: right;\n",
              "    }\n",
              "</style>\n",
              "<table border=\"1\" class=\"dataframe\">\n",
              "  <thead>\n",
              "    <tr style=\"text-align: right;\">\n",
              "      <th></th>\n",
              "      <th>importance</th>\n",
              "    </tr>\n",
              "  </thead>\n",
              "  <tbody>\n",
              "    <tr>\n",
              "      <th>Age</th>\n",
              "      <td>0.212523</td>\n",
              "    </tr>\n",
              "    <tr>\n",
              "      <th>TmeToDiuretic_Log</th>\n",
              "      <td>0.190305</td>\n",
              "    </tr>\n",
              "    <tr>\n",
              "      <th>LVEF</th>\n",
              "      <td>0.115261</td>\n",
              "    </tr>\n",
              "    <tr>\n",
              "      <th>Diastolic_BP</th>\n",
              "      <td>0.090192</td>\n",
              "    </tr>\n",
              "    <tr>\n",
              "      <th>RespiratoryRate</th>\n",
              "      <td>0.084132</td>\n",
              "    </tr>\n",
              "    <tr>\n",
              "      <th>EdemaScore</th>\n",
              "      <td>0.067017</td>\n",
              "    </tr>\n",
              "    <tr>\n",
              "      <th>HeartRate</th>\n",
              "      <td>0.064256</td>\n",
              "    </tr>\n",
              "    <tr>\n",
              "      <th>Chest_Pain</th>\n",
              "      <td>0.057043</td>\n",
              "    </tr>\n",
              "    <tr>\n",
              "      <th>Systolic_BP</th>\n",
              "      <td>0.045869</td>\n",
              "    </tr>\n",
              "    <tr>\n",
              "      <th>Parocysmal_Dyspnea_Or_Orthopnea</th>\n",
              "      <td>0.037329</td>\n",
              "    </tr>\n",
              "    <tr>\n",
              "      <th>Fatigue</th>\n",
              "      <td>0.032779</td>\n",
              "    </tr>\n",
              "    <tr>\n",
              "      <th>Dyspnea_on_exertion</th>\n",
              "      <td>0.003295</td>\n",
              "    </tr>\n",
              "  </tbody>\n",
              "</table>\n",
              "</div>"
            ],
            "text/plain": [
              "                                 importance\n",
              "Age                                0.212523\n",
              "TmeToDiuretic_Log                  0.190305\n",
              "LVEF                               0.115261\n",
              "Diastolic_BP                       0.090192\n",
              "RespiratoryRate                    0.084132\n",
              "EdemaScore                         0.067017\n",
              "HeartRate                          0.064256\n",
              "Chest_Pain                         0.057043\n",
              "Systolic_BP                        0.045869\n",
              "Parocysmal_Dyspnea_Or_Orthopnea    0.037329\n",
              "Fatigue                            0.032779\n",
              "Dyspnea_on_exertion                0.003295"
            ]
          },
          "metadata": {},
          "output_type": "display_data"
        },
        {
          "name": "stdout",
          "output_type": "stream",
          "text": [
            "Index(['Age', 'TmeToDiuretic_Log', 'LVEF', 'Diastolic_BP', 'RespiratoryRate',\n",
            "       'EdemaScore', 'HeartRate', 'Chest_Pain', 'Systolic_BP',\n",
            "       'Parocysmal_Dyspnea_Or_Orthopnea', 'Fatigue', 'Dyspnea_on_exertion'],\n",
            "      dtype='object')\n"
          ]
        }
      ],
      "source": [
        "impr = pd.DataFrame(rf_random.best_estimator_.feature_importances_, index=rf_random.best_estimator_.feature_names_in_, columns=['importance']).sort_values('importance', ascending=False)\n",
        "display(impr)\n",
        "print(impr.index)"
      ]
    },
    {
      "cell_type": "markdown",
      "id": "27da9e94",
      "metadata": {
        "id": "27da9e94"
      },
      "source": [
        "## USING ONLY TOP 7 FEATURES"
      ]
    },
    {
      "cell_type": "code",
      "execution_count": null,
      "id": "45a31593",
      "metadata": {
        "id": "45a31593"
      },
      "outputs": [],
      "source": [
        ""
      ]
    },
    {
      "cell_type": "code",
      "execution_count": null,
      "id": "91475bf4",
      "metadata": {
        "id": "91475bf4",
        "outputId": "72860f71-33ae-4389-bffd-d187b8323c9e"
      },
      "outputs": [
        {
          "data": {
            "text/plain": [
              "RandomForestClassifier(max_depth=15, min_samples_leaf=8)"
            ]
          },
          "execution_count": 30,
          "metadata": {},
          "output_type": "execute_result"
        }
      ],
      "source": [
        "rf_random.best_estimator_"
      ]
    }
  ],
  "metadata": {
    "kernelspec": {
      "display_name": "Python 3",
      "language": "python",
      "name": "python3"
    },
    "language_info": {
      "codemirror_mode": {
        "name": "ipython",
        "version": 3
      },
      "file_extension": ".py",
      "mimetype": "text/x-python",
      "name": "python",
      "nbconvert_exporter": "python",
      "pygments_lexer": "ipython3",
      "version": "3.8.8"
    },
    "colab": {
      "name": "featureExtraction.ipynb",
      "provenance": []
    }
  },
  "nbformat": 4,
  "nbformat_minor": 5
}